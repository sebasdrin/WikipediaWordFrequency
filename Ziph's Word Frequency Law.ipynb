{
 "cells": [
  {
   "cell_type": "markdown",
   "metadata": {},
   "source": [
    "## <p style=\"text-align: center;\"> <u>Testing Ziph's Word Frequency Law with Wikipedia Articles</u></p>\n",
    "Ziph's law states that the frequency of words are inversely proportion to their frequency rank. The 2nd most frequent word is used 1/2 as often as the first, the 3rd is used 1/3 as often, the 4th: 1/4, the 5th: 1/5 and so on, following a power law.\n",
    "https://en.wikipedia.org/wiki/Zipf%27s_law\n",
    "\n",
    "<img src=\"https://scx2.b-cdn.net/gfx/news/2017/solutiontoac.png\" width=\"707\" height=\"415\" />\n",
    "<p style=\"text-align: center;\">(source: https://phys.org/news/2017-08-unzipping-zipf-law-solution-century-old.html)\n",
    "</p>\n",
    "\n",
    "In this notebook I will attempt to find this relationship using a sample of Wikipedia articles."
   ]
  },
  {
   "cell_type": "markdown",
   "metadata": {},
   "source": [
    "For attaining a random sample of articles, I will start from a specified article, and have my code follow random links up to a specified number of articles, accumulating the raw text data on the way."
   ]
  },
  {
   "cell_type": "code",
   "execution_count": 11,
   "metadata": {
    "scrolled": true
   },
   "outputs": [],
   "source": [
    "from bs4 import BeautifulSoup\n",
    "import requests\n",
    "import re\n",
    "import random\n",
    "\n",
    "def tokenize(string):\n",
    "    return re.sub(\"[^\\w\\s]\",\"\", string).split()\n",
    "\n",
    "def get_body(url):\n",
    "    req = requests.get(url)\n",
    "    soup = BeautifulSoup(req.text, 'lxml')\n",
    "    return soup.find(id=\"bodyContent\")\n",
    "\n",
    "#find duplicate articles (for debugging), source:\n",
    "#https://stackoverflow.com/questions/9835762/how-do-i-find-the-duplicates-in-a-list-and-create-another-list-with-them/9835819)\n",
    "def list_duplicates(seq):\n",
    "    seen = set()\n",
    "    seen_add = seen.add\n",
    "    seen_twice = set(x for x in seq if x in seen or seen_add(x))\n",
    "    return list(seen_twice)\n",
    "\n",
    "def scrapeWikipedia(url, n): #url = starting page, n = number of articles to scrape\n",
    "\n",
    "    all_text = \"\"\n",
    "    final_links = []\n",
    "    temp_links = []\n",
    "    exclude = ['https:',':','/ISO','Code_page']\n",
    "    exclude2 = []\n",
    "    skip_text = False\n",
    "    \n",
    "    for j in range(n):\n",
    "\n",
    "        if skip_text == False:\n",
    "        \n",
    "            #grab raw text from webpage\n",
    "            req = requests.get(url)\n",
    "            soup = BeautifulSoup(req.text, 'lxml')\n",
    "            raw_text = soup.findAll(\"p\")\n",
    "\n",
    "            for i in range(len(raw_text)):\n",
    "                all_text += raw_text[i].text\n",
    "            final_links.append(url) #every article that we've grabbed the text from\n",
    "            temp_links.append(url) #for later use\n",
    "\n",
    "        #choose next random link\n",
    "        skip_text = False\n",
    "        wikilinks = []\n",
    "        links = get_body(url).findAll(\"a\")\n",
    "        for link in links:\n",
    "            try:\n",
    "                try:\n",
    "                    if any(link['href'] == t[24:] for t in final_links) == False\\\n",
    "                    and '.' not in link['href'][-7:]\\\n",
    "                    and any(e in link['href'] for e in exclude) == False\\\n",
    "                    and any(link['href'] == s[24:] for s in exclude2) == False\\\n",
    "                    and '/wiki/' in link['href']:\n",
    "                        wikilinks.append(\"https://en.wikipedia.org\" + link['href'])\n",
    "                except IndexError:\n",
    "                    continue\n",
    "            except KeyError:\n",
    "                continue\n",
    "        \n",
    "        #make sure current article has at least 100 links to increase chances of branching into different domains\n",
    "        #plus error handling for cases where get_body() returned a NoneType\n",
    "        CarryOn = True\n",
    "        if len(wikilinks) > 100: \n",
    "            random.shuffle(wikilinks)\n",
    "            while CarryOn == True:\n",
    "                for w in range(len(wikilinks)):\n",
    "                    url = wikilinks[w]\n",
    "                    if type(get_body(url) != type(None)):\n",
    "                        CarryOn = False\n",
    "                        break\n",
    "                    else:\n",
    "                        print(f\"Currently searching for a suitable link\")\n",
    "                        del wikilinks[w]\n",
    "                        if len(wikilinks) == 0:\n",
    "                            del temp_links[-1]\n",
    "                            url = temp_links[-1]\n",
    "                            skip_text = True\n",
    "                            CarryOn = False\n",
    "                            break\n",
    "        else:\n",
    "            exclude2.append(url)\n",
    "            del temp_links[-1]\n",
    "            url = temp_links[-1]\n",
    "            skip_text = True\n",
    "        print(f\"finished {j+1} loops\",end='\\r')\n",
    "        \n",
    "    print(f\"Out of {n} loops we ended up with {len(final_links)} articles\")\n",
    "    print(f\"Started on: {final_links[0]}\")\n",
    "    print(f\"and ended up on: {final_links[-1]}\")\n",
    "    if len(final_links) == len(set(final_links)):\n",
    "        print(\"Repeated articles: 0 (as expected)\")\n",
    "    else: \n",
    "        print(f\"Repeated articles: {len(final_links) - len(set(final_links))} (check!)\")\n",
    "        print(list_duplicates(final_links))\n",
    "        \n",
    "    final_text = tokenize(all_text)\n",
    "    return final_text"
   ]
  },
  {
   "cell_type": "code",
   "execution_count": 12,
   "metadata": {},
   "outputs": [
    {
     "name": "stdout",
     "output_type": "stream",
     "text": [
      "Out of 10000 loops we ended up with 8824 articles\n",
      "Started on: https://en.wikipedia.org/wiki/Wikipedia\n",
      "and ended up on: https://en.wikipedia.org/wiki/Laban_(Bible)\n",
      "Repeated articles: 0 (as expected)\n",
      "566.921094015  minutes\n",
      "total number of words:  16824984\n",
      "number of distinct words:  662006\n"
     ]
    }
   ],
   "source": [
    "import time\n",
    "start_time = time.perf_counter()\n",
    "\n",
    "url = 'https://en.wikipedia.org/wiki/Wikipedia'\n",
    "text_10000 = scrapeWikipedia(url, 10000)\n",
    "\n",
    "print((time.perf_counter() - start_time)/60, \" minutes\")\n",
    "print(\"total number of words: \",len(text_10000))\n",
    "print(\"number of distinct words: \",len(set(text_10000)))"
   ]
  },
  {
   "cell_type": "code",
   "execution_count": 153,
   "metadata": {},
   "outputs": [],
   "source": [
    "import pandas as pd\n",
    "data = [a.lower() for a in text_10000]\n",
    "df = pd.DataFrame(data,columns=['word'])\n",
    "df = df.groupby(['word']).word.size().to_frame('frequency').sort_values('frequency',ascending=False)"
   ]
  },
  {
   "cell_type": "code",
   "execution_count": 154,
   "metadata": {},
   "outputs": [
    {
     "name": "stdout",
     "output_type": "stream",
     "text": [
      "number of distinct words:  614116\n"
     ]
    }
   ],
   "source": [
    "#after lower-casing\n",
    "print(\"number of distinct words: \",len(set(data)))"
   ]
  },
  {
   "cell_type": "code",
   "execution_count": 155,
   "metadata": {
    "scrolled": false
   },
   "outputs": [
    {
     "name": "stdout",
     "output_type": "stream",
     "text": [
      "['the' 'of' 'and' 'in' 'to' 'a' 'is' 'as' 'was' 'for' 'by' 'that' 'with'\n",
      " 'on' 'from' 'are' 'it' 'or' 'at' 'which' 'an' 'were' 'be' 'this' 'his'\n",
      " 'he' 'also' 'not' 'has' 'have' 'its' 'their' 'had' 'but' 'other' 'one'\n",
      " 'first' 'they' 'been' 'such' 'new' 'after' 'who' 'more' 'can' 'most'\n",
      " 'all' 'some' 'into' 'two' 'there' 'during' 'used' 'may' 'when' 'these'\n",
      " 'between' 'many' 'than' 'only' 'would' 'over' 'states' 'time' 'while'\n",
      " 'state' 'united' 'world' 'about' 'city' 'war' 'under' 'however'\n",
      " 'government' 'known' 'including' 'national' 'both' 'years' 'no' 'people'\n",
      " 'where' 'through' 'number' 'since' 'part' 'being' 'use' 'three' 'became'\n",
      " 'century' 'later' 'then' 'made' 'called' 'system' 'well' 'up' 'if' 'us']\n"
     ]
    }
   ],
   "source": [
    "print(df[:100].index.values)"
   ]
  },
  {
   "cell_type": "markdown",
   "metadata": {},
   "source": [
    "**Expected value = Most Frequent Word * (1 / Frequency Rank)**"
   ]
  },
  {
   "cell_type": "code",
   "execution_count": 207,
   "metadata": {
    "scrolled": true
   },
   "outputs": [
    {
     "name": "stderr",
     "output_type": "stream",
     "text": [
      "<ipython-input-207-b0def689dd84>:7: SettingWithCopyWarning: \n",
      "A value is trying to be set on a copy of a slice from a DataFrame.\n",
      "Try using .loc[row_indexer,col_indexer] = value instead\n",
      "\n",
      "See the caveats in the documentation: https://pandas.pydata.org/pandas-docs/stable/user_guide/indexing.html#returning-a-view-versus-a-copy\n",
      "  top25['expected'] = top25[['frequency']].apply(expected)\n"
     ]
    },
    {
     "data": {
      "text/html": [
       "<div>\n",
       "<style scoped>\n",
       "    .dataframe tbody tr th:only-of-type {\n",
       "        vertical-align: middle;\n",
       "    }\n",
       "\n",
       "    .dataframe tbody tr th {\n",
       "        vertical-align: top;\n",
       "    }\n",
       "\n",
       "    .dataframe thead th {\n",
       "        text-align: right;\n",
       "    }\n",
       "</style>\n",
       "<table border=\"1\" class=\"dataframe\">\n",
       "  <thead>\n",
       "    <tr style=\"text-align: right;\">\n",
       "      <th></th>\n",
       "      <th>frequency</th>\n",
       "      <th>expected</th>\n",
       "    </tr>\n",
       "    <tr>\n",
       "      <th>word</th>\n",
       "      <th></th>\n",
       "      <th></th>\n",
       "    </tr>\n",
       "  </thead>\n",
       "  <tbody>\n",
       "    <tr>\n",
       "      <th>the</th>\n",
       "      <td>1302252</td>\n",
       "      <td>1302252.0</td>\n",
       "    </tr>\n",
       "    <tr>\n",
       "      <th>of</th>\n",
       "      <td>654609</td>\n",
       "      <td>651126.0</td>\n",
       "    </tr>\n",
       "    <tr>\n",
       "      <th>and</th>\n",
       "      <td>511436</td>\n",
       "      <td>434084.0</td>\n",
       "    </tr>\n",
       "    <tr>\n",
       "      <th>in</th>\n",
       "      <td>468706</td>\n",
       "      <td>325563.0</td>\n",
       "    </tr>\n",
       "    <tr>\n",
       "      <th>to</th>\n",
       "      <td>370975</td>\n",
       "      <td>260450.0</td>\n",
       "    </tr>\n",
       "    <tr>\n",
       "      <th>a</th>\n",
       "      <td>330520</td>\n",
       "      <td>217042.0</td>\n",
       "    </tr>\n",
       "    <tr>\n",
       "      <th>is</th>\n",
       "      <td>175131</td>\n",
       "      <td>186036.0</td>\n",
       "    </tr>\n",
       "    <tr>\n",
       "      <th>as</th>\n",
       "      <td>162643</td>\n",
       "      <td>162782.0</td>\n",
       "    </tr>\n",
       "    <tr>\n",
       "      <th>was</th>\n",
       "      <td>146618</td>\n",
       "      <td>144695.0</td>\n",
       "    </tr>\n",
       "    <tr>\n",
       "      <th>for</th>\n",
       "      <td>133918</td>\n",
       "      <td>130225.0</td>\n",
       "    </tr>\n",
       "    <tr>\n",
       "      <th>by</th>\n",
       "      <td>131656</td>\n",
       "      <td>118387.0</td>\n",
       "    </tr>\n",
       "    <tr>\n",
       "      <th>that</th>\n",
       "      <td>119646</td>\n",
       "      <td>108521.0</td>\n",
       "    </tr>\n",
       "    <tr>\n",
       "      <th>with</th>\n",
       "      <td>116253</td>\n",
       "      <td>100173.0</td>\n",
       "    </tr>\n",
       "    <tr>\n",
       "      <th>on</th>\n",
       "      <td>109960</td>\n",
       "      <td>93018.0</td>\n",
       "    </tr>\n",
       "    <tr>\n",
       "      <th>from</th>\n",
       "      <td>89267</td>\n",
       "      <td>86817.0</td>\n",
       "    </tr>\n",
       "    <tr>\n",
       "      <th>are</th>\n",
       "      <td>82693</td>\n",
       "      <td>81391.0</td>\n",
       "    </tr>\n",
       "    <tr>\n",
       "      <th>it</th>\n",
       "      <td>74158</td>\n",
       "      <td>76603.0</td>\n",
       "    </tr>\n",
       "    <tr>\n",
       "      <th>or</th>\n",
       "      <td>67174</td>\n",
       "      <td>72347.0</td>\n",
       "    </tr>\n",
       "    <tr>\n",
       "      <th>at</th>\n",
       "      <td>64799</td>\n",
       "      <td>68540.0</td>\n",
       "    </tr>\n",
       "    <tr>\n",
       "      <th>which</th>\n",
       "      <td>63371</td>\n",
       "      <td>65113.0</td>\n",
       "    </tr>\n",
       "    <tr>\n",
       "      <th>an</th>\n",
       "      <td>63317</td>\n",
       "      <td>62012.0</td>\n",
       "    </tr>\n",
       "    <tr>\n",
       "      <th>were</th>\n",
       "      <td>60985</td>\n",
       "      <td>59193.0</td>\n",
       "    </tr>\n",
       "    <tr>\n",
       "      <th>be</th>\n",
       "      <td>60067</td>\n",
       "      <td>56620.0</td>\n",
       "    </tr>\n",
       "    <tr>\n",
       "      <th>this</th>\n",
       "      <td>53943</td>\n",
       "      <td>54260.0</td>\n",
       "    </tr>\n",
       "    <tr>\n",
       "      <th>his</th>\n",
       "      <td>51328</td>\n",
       "      <td>52090.0</td>\n",
       "    </tr>\n",
       "  </tbody>\n",
       "</table>\n",
       "</div>"
      ],
      "text/plain": [
       "       frequency   expected\n",
       "word                       \n",
       "the      1302252  1302252.0\n",
       "of        654609   651126.0\n",
       "and       511436   434084.0\n",
       "in        468706   325563.0\n",
       "to        370975   260450.0\n",
       "a         330520   217042.0\n",
       "is        175131   186036.0\n",
       "as        162643   162782.0\n",
       "was       146618   144695.0\n",
       "for       133918   130225.0\n",
       "by        131656   118387.0\n",
       "that      119646   108521.0\n",
       "with      116253   100173.0\n",
       "on        109960    93018.0\n",
       "from       89267    86817.0\n",
       "are        82693    81391.0\n",
       "it         74158    76603.0\n",
       "or         67174    72347.0\n",
       "at         64799    68540.0\n",
       "which      63371    65113.0\n",
       "an         63317    62012.0\n",
       "were       60985    59193.0\n",
       "be         60067    56620.0\n",
       "this       53943    54260.0\n",
       "his        51328    52090.0"
      ]
     },
     "execution_count": 207,
     "metadata": {},
     "output_type": "execute_result"
    }
   ],
   "source": [
    "import numpy as np\n",
    "df1 = df.copy()\n",
    "df1 = df1.reset_index()\n",
    "top25 = df1[:25]\n",
    "base = top25.iloc[0][1]\n",
    "expected = lambda x : np.round_(base * (1/(x.index.values + 1)),0)\n",
    "top25['expected'] = top25[['frequency']].apply(expected)\n",
    "top25 = top25.set_index('word')\n",
    "top25"
   ]
  },
  {
   "cell_type": "markdown",
   "metadata": {},
   "source": [
    "As we can see in the graph below, for many of the points they are almost spot on for what would be expected if Ziph's Law holds true."
   ]
  },
  {
   "cell_type": "code",
   "execution_count": 208,
   "metadata": {
    "scrolled": false
   },
   "outputs": [
    {
     "data": {
      "image/png": "[encoded data removed]",
      "text/plain": [
       "<Figure size 1500x800 with 1 Axes>"
      ]
     },
     "metadata": {},
     "output_type": "display_data"
    }
   ],
   "source": [
    "#plot\n",
    "import matplotlib as mpl\n",
    "import matplotlib.pyplot as plt\n",
    "from matplotlib.pyplot import figure\n",
    "\n",
    "figure(figsize=(15,8))\n",
    "\n",
    "x = top25.index.values\n",
    "y1 = top25.frequency.values\n",
    "y2 = top25.expected.values\n",
    "\n",
    "plt.scatter(x,y1,label=\"actual\")\n",
    "plt.plot(x,y1)\n",
    "\n",
    "plt.scatter(x,y2,label=\"expected (according to Ziph's Law)\")\n",
    "plt.plot(x,y2)\n",
    "\n",
    "plt.xlabel('word')\n",
    "plt.ylabel('frequency')\n",
    "\n",
    "plt.title(\"Top 25 most frequent words in Wikipedia\")\n",
    "\n",
    "plt.legend()\n",
    "plt.show()"
   ]
  },
  {
   "cell_type": "markdown",
   "metadata": {},
   "source": [
    "Word Frequency Lookup"
   ]
  },
  {
   "cell_type": "code",
   "execution_count": 209,
   "metadata": {},
   "outputs": [],
   "source": [
    "def FreqLookup(word):\n",
    "    return (f\"{[word]} makes up {round(100 * (df.loc[word].values[0] / np.sum(df['frequency'])),5)}% of the words in \\\n",
    "Wikipedia, at rank #{1 + df1[df1['word']==word].index[0]}\")"
   ]
  },
  {
   "cell_type": "code",
   "execution_count": 210,
   "metadata": {},
   "outputs": [
    {
     "name": "stdout",
     "output_type": "stream",
     "text": [
      "['data'] makes up 0.02272% of the words in Wikipedia, at rank #412\n"
     ]
    }
   ],
   "source": [
    "word = 'data'\n",
    "print(FreqLookup(word))"
   ]
  }
 ],
 "metadata": {
  "kernelspec": {
   "display_name": "Python 3",
   "language": "python",
   "name": "python3"
  },
  "language_info": {
   "codemirror_mode": {
    "name": "ipython",
    "version": 3
   },
   "file_extension": ".py",
   "mimetype": "text/x-python",
   "name": "python",
   "nbconvert_exporter": "python",
   "pygments_lexer": "ipython3",
   "version": "3.8.5"
  }
 },
 "nbformat": 4,
 "nbformat_minor": 4
}
